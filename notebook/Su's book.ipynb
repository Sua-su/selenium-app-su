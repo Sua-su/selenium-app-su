{
 "cells": [
  {
   "cell_type": "code",
   "execution_count": 97,
   "metadata": {},
   "outputs": [],
   "source": [
    "from selenium import webdriver\n",
    "from selenium.webdriver.common.by import By\n",
    "from selenium.webdriver.common.keys import Keys\n",
    "from selenium.webdriver.chrome.options import Options\n",
    "\n",
    "user_agent = \"Mozilla/5.0 (Windows NT 10.0; WOW64) AppleWebKit/537.36 (KHTML, like Gecko) Chrome/109.0.0.0 Safari/537.36\"\n",
    "\n",
    "import time\n",
    "chrome_options = Options()\n",
    "chrome_options.add_argument(f\"--user-agnet={user_agent}\")\n",
    "browser = webdriver.Chrome(chrome_options)\n",
    "\n",
    "query = \"MLB\"\n",
    "url = f\"https://search.naver.com/search.naver?where=news&query={query}\"\n",
    "browser.get(url)\n",
    "\n",
    "browser.maximize_window()\n",
    "\n",
    "time.sleep(1)\n",
    "\n",
    "\n",
    "title = browser.title\n",
    "page_sourse = browser.page_source\n",
    "\n",
    "\n",
    "browser.save_screenshot(\"PAGE.jpg\")\n",
    "page_sourse = browser.page_source\n",
    "browser.quit()\n"
   ]
  },
  {
   "cell_type": "markdown",
   "metadata": {},
   "source": []
  },
  {
   "cell_type": "code",
   "execution_count": 98,
   "metadata": {},
   "outputs": [
    {
     "name": "stdout",
     "output_type": "stream",
     "text": [
      "MLB : 네이버 뉴스검색\n"
     ]
    }
   ],
   "source": [
    "print(title)"
   ]
  },
  {
   "cell_type": "code",
   "execution_count": 99,
   "metadata": {},
   "outputs": [
    {
     "name": "stdout",
     "output_type": "stream",
     "text": [
      "None\n",
      "<a class=\"news_tit\" href=\"https://www.yna.co.kr/view/AKR20250403121800007?input=1195m\" onclick=\"return goOtherCR(this, 'a=nws*a.tit&amp;r=1&amp;i=880000D8_000000000000000015308952&amp;g=001.0015308952&amp;u='+urlencode(this.href));\" target=\"_blank\" title=\"오타니 9회말 끝내기 홈런…MLB 다저스, 개막 후 8연승\">오타니 9회말 끝내기 홈런…<mark>MLB</mark> 다저스, 개막 후 8연승</a>\n",
      "None\n",
      "<a class=\"news_tit\" href=\"https://www.newsis.com/view/NISX20250402_0003123645\" onclick=\"return goOtherCR(this, 'a=nws*a.tit&amp;r=6&amp;i=88000127_000000000000000013159361&amp;g=003.0013159361&amp;u='+urlencode(this.href));\" target=\"_blank\" title=\"MLB 텍사스 이발디, 공 99개로 완봉승 달성…시즌 첫 '매덕스' 투구\"><mark>MLB</mark> 텍사스 이발디, 공 99개로 완봉승 달성…시즌 첫 '매덕스' 투구</a>\n",
      "None\n",
      "<a class=\"news_tit\" href=\"https://news.sbs.co.kr/news/endPage.do?news_id=N1008045978&amp;plink=ORI&amp;cooper=NAVER\" onclick=\"return goOtherCR(this, 'a=nws*a.tit&amp;r=11&amp;i=8800011C_000000000000000001245507&amp;g=055.0001245507&amp;u='+urlencode(this.href));\" target=\"_blank\" title=\"MLB 143승 투수 랜스 린, 아내 팟캐스트 통해 은퇴 선언\"><mark>MLB</mark> 143승 투수 랜스 린, 아내 팟캐스트 통해 은퇴 선언</a>\n",
      "None\n",
      "<a class=\"news_tit\" href=\"https://www.newspim.com/news/view/20250403000075\" onclick=\"return goOtherCR(this, 'a=nws*b.tit&amp;r=16&amp;i=88000394_000000000000000002834784&amp;g=5002.0002834784&amp;u='+urlencode(this.href));\" target=\"_blank\" title='[MLB] 이정후 없어도 잘 나가는 샌프란시스코…\"모처럼 소중한 휴식\"'>[<mark>MLB</mark>] 이정후 없어도 잘 나가는 샌프란시스코…\"모처럼 소중한 휴식\"</a>\n",
      "None\n",
      "<a class=\"news_tit\" href=\"https://isplus.com/article/view/isp202504030039\" onclick=\"return goOtherCR(this, 'a=nws*e.tit&amp;r=18&amp;i=880002FC_000000000000000003425945&amp;g=241.0003425945&amp;u='+urlencode(this.href));\" target=\"_blank\" title=\"'도쿄 시리즈' 8타수 무안타 스즈키, 최근 4G 11타점 '원맨쇼'…MLB 타점 1위 등극\">'도쿄 시리즈' 8타수 무안타 스즈키, 최근 4G 11타점 '원맨쇼'…<mark>MLB</mark> 타점...</a>\n",
      "None\n",
      "<a class=\"news_tit\" href=\"https://www.sportsworldi.com/newsView/20250403515818\" onclick=\"return goOtherCR(this, 'a=nws*e.tit&amp;r=19&amp;i=88127056_000000000000000000705011&amp;g=396.0000705011&amp;u='+urlencode(this.href));\" target=\"_blank\" title=\"‘판타스틱 베이스볼: 일미프로’ 일본 사전 예약…日야구 게임 최초 NPB·MLB 공식 라이선스\">‘판타스틱 베이스볼: 일미프로’ 일본 사전 예약…日야구 게임 최초 N...</a>\n",
      "None\n",
      "<a class=\"news_tit\" href=\"https://www.starnewskorea.com/stview.php?no=2025040314244328201\" onclick=\"return goOtherCR(this, 'a=nws*e.tit&amp;r=20&amp;i=880000C3_000000000000000003317237&amp;g=108.0003317237&amp;u='+urlencode(this.href));\" target=\"_blank\" title=\"'승률 0.833'인데 2위도 아니고 3위라니, MLB '지옥의 조' 탄생... 8전 전승해도 단독 선두 아니다\">'승률 0.833'인데 2위도 아니고 3위라니, <mark>MLB</mark> '지옥의 조' 탄생... 8전 전...</a>\n",
      "None\n",
      "<a class=\"news_tit\" href=\"https://www.newsis.com/view/NISX20250403_0003125344\" onclick=\"return goOtherCR(this, 'a=nws*e.tit&amp;r=21&amp;i=88000127_000000000000000013162062&amp;g=003.0013162062&amp;u='+urlencode(this.href));\" target=\"_blank\" title=\"MLB 애리조나, 마르테와 6년 1707억원에 연장 계약\"><mark>MLB</mark> 애리조나, 마르테와 6년 1707억원에 연장 계약</a>\n",
      "None\n",
      "<a class=\"news_tit\" href=\"http://www.maniareport.com/view.php?ud=2025040111202711476cf2d78c68_19\" onclick=\"return goOtherCR(this, 'a=nws*a.tit&amp;r=22&amp;i=88156f81_000000000000000000162311&amp;g=425.0000162311&amp;u='+urlencode(this.href));\" target=\"_blank\" title=\"MLB 화제의 '어뢰 배트', 스위트 스폿 위치 변경으로 타격 최적화 시도\"><mark>MLB</mark> 화제의 '어뢰 배트', 스위트 스폿 위치 변경으로 타격 최적화 시도</a>\n",
      "None\n",
      "<a class=\"news_tit\" href=\"https://news.kbs.co.kr/news/pc/view/view.do?ncd=8215688&amp;ref=A\" onclick=\"return goOtherCR(this, 'a=nws*a.tit&amp;r=27&amp;i=88000114_000000000000000011922714&amp;g=056.0011922714&amp;u='+urlencode(this.href));\" target=\"_blank\" title=\"‘역시 슈퍼스타’ 오타니, MLB 유니폼 판매 1위 등극\">‘역시 슈퍼스타’ 오타니, <mark>MLB</mark> 유니폼 판매 1위 등극</a>\n"
     ]
    },
    {
     "data": {
      "text/plain": [
       "' thumb_box = soup.select(\".thumb_box\")\\n\\nfor dix , thumb_box in enumerate(thumb_box , 1):\\n    name = thumb_box.select_one(\".info press\")\\n    thum = thumb_box.select_one(\".thumb\")\\n    print(name)\\n    # print(thumb_box, name.get_text() , name[\"\"])\\n\\npass\\n '"
      ]
     },
     "execution_count": 99,
     "metadata": {},
     "output_type": "execute_result"
    }
   ],
   "source": [
    "from bs4 import BeautifulSoup\n",
    "soup = BeautifulSoup(page_sourse)\n",
    "news_contents = soup.select(\".news_contents\")\n",
    "\n",
    "\"\"\" for news, idx in enumerate(news_contents, 1):\n",
    "    print(news,idx) \"\"\"\n",
    "#웹페이지 cotents 가져오는 코드\n",
    "# print(len( news_contents))\n",
    "for idx , news_content in enumerate(news_contents , 1):\n",
    "    title = news_content.select_one(\".news_tit\")\n",
    "    description = news_content.select_one(\".dsc_txt_wrap\")\n",
    "    # print(idx, title.get_text() , title[\"href\"])\n",
    "    # print(description.get_text() )\n",
    "    info_group = news_content.select_one(\".info_group\")\n",
    "    print(info_group)\n",
    "    print(title)\n",
    "    \n",
    "\n",
    "\"\"\" \n",
    "dsc_txt_wrap\n",
    " \"\"\"   \n",
    "\"\"\" thumb_box = soup.select(\".thumb_box\")\n",
    "\n",
    "for dix , thumb_box in enumerate(thumb_box , 1):\n",
    "    name = thumb_box.select_one(\".info press\")\n",
    "    thum = thumb_box.select_one(\".thumb\")\n",
    "    print(name)\n",
    "    # print(thumb_box, name.get_text() , name[\"\"])\n",
    "    \n",
    "pass\n",
    " \"\"\""
   ]
  },
  {
   "cell_type": "code",
   "execution_count": null,
   "metadata": {},
   "outputs": [
    {
     "name": "stdout",
     "output_type": "stream",
     "text": [
      "뉴스 제목 :  오타니 9회말 끝내기 홈런…MLB 다저스, 개막 후 8연승\n",
      "뉴스 링크 :  https://www.yna.co.kr/view/AKR20250403121800007?input=1195m\n",
      "뉴스 로고: https://search.pstatic.net/common/?src=https%3A%2F%2Fmimgnews.pstatic.net%2Fimage%2Fupload%2Foffice_logo%2F001%2F2017%2F06%2F29%2Flogo_001_18_20170629160329.png&type=f54_54&expire=24&refresh=true\n",
      "뉴스 썸네일: https://search.pstatic.net/common/?src=https%3A%2F%2Fmimgnews.pstatic.net%2Fimage%2Fupload%2Foffice_logo%2F001%2F2017%2F06%2F29%2Flogo_001_18_20170629160329.png&type=f54_54&expire=24&refresh=true\n",
      "뉴스 회사: 연합뉴스\n",
      "뉴스 설명:  미국프로야구 메이저리그(MLB) 로스앤젤레스(LA) 다저스가 오타니 쇼헤이의 9회말 끝내기 홈런에 힘입어 개막 8연승을 내달렸다. 다저스는 3일(한국시간) 미국 캘리포니아주 LA의 다저스타디움에서 열린 2025시즌 MLB 정규시즌 애틀랜타 브레이브스와 홈 경기에서 6-5로 이겼다. 2회까지 0-5로 끌려가던...\n",
      "뉴스 시간 : 1시간 전\n",
      "\n",
      "뉴스 제목 :  MLB 텍사스 이발디, 공 99개로 완봉승 달성…시즌 첫 '매덕스' 투구\n",
      "뉴스 링크 :  https://www.newsis.com/view/NISX20250402_0003123645\n",
      "뉴스 로고: https://search.pstatic.net/common/?src=https%3A%2F%2Fmimgnews.pstatic.net%2Fimage%2Fupload%2Foffice_logo%2F003%2F2024%2F07%2F31%2Flogo_003_18_20240731102705.png&type=f54_54&expire=24&refresh=true\n",
      "뉴스 썸네일: https://search.pstatic.net/common/?src=https%3A%2F%2Fmimgnews.pstatic.net%2Fimage%2Fupload%2Foffice_logo%2F003%2F2024%2F07%2F31%2Flogo_003_18_20240731102705.png&type=f54_54&expire=24&refresh=true\n",
      "뉴스 회사: 뉴시스\n",
      "뉴스 설명:  메이저리그(MLB) 텍사스 레인저스에서 뛰는 베테랑 선발 투수 네이선 이발디가 공 99개로 완봉승을 달성했다. 이발디는 2일(한국 시간) 미국 오하이오주 신시내티 그레이트 아메리칸 볼파크에서 열린 2025 MLB 정규시즌 신시내티 레즈와 경기에 선발 등판해 9이닝 4피안타 무사사구 8탈삼진 무실점으로...\n",
      "뉴스 시간 : 1일 전\n",
      "\n",
      "뉴스 제목 :  MLB 143승 투수 랜스 린, 아내 팟캐스트 통해 은퇴 선언\n",
      "뉴스 링크 :  https://news.sbs.co.kr/news/endPage.do?news_id=N1008045978&plink=ORI&cooper=NAVER\n",
      "뉴스 로고: https://search.pstatic.net/common/?src=https%3A%2F%2Fmimgnews.pstatic.net%2Fimage%2Fupload%2Foffice_logo%2F055%2F2021%2F07%2F02%2Flogo_055_18_20210702165821.jpg&type=f54_54&expire=24&refresh=true\n",
      "뉴스 썸네일: https://search.pstatic.net/common/?src=https%3A%2F%2Fmimgnews.pstatic.net%2Fimage%2Fupload%2Foffice_logo%2F055%2F2021%2F07%2F02%2Flogo_055_18_20210702165821.jpg&type=f54_54&expire=24&refresh=true\n",
      "뉴스 회사: SBS\n",
      "뉴스 설명:  ▲ 랜스 린 메이저리그 세인트루이스의 에이스로 활약했던 랜스 린이 그라운드를 떠납니다. 린은 오늘(2일) 아내가 진행하는 팟캐스트에 출연해 \"야구 시즌이 다가왔는데 나는 여기 소파에 앉아 있다\"며 \"이 자리에서 은퇴를 선언한다\"고 밝혔습니다. 2011년 데뷔한 린은 지난해까지 13시즌 동안 143승...\n",
      "뉴스 시간 : 1일 전\n",
      "\n",
      "뉴스 제목 :  [MLB] 이정후 없어도 잘 나가는 샌프란시스코…\"모처럼 소중한 휴식\"\n",
      "뉴스 링크 :  https://www.newspim.com/news/view/20250403000075\n",
      "뉴스 로고: https://search.pstatic.net/common/?src=https%3A%2F%2Fmimgnews.pstatic.net%2Fimage%2Fupload%2Foffice_logo%2F5002%2F2024%2F05%2F30%2Flogo_5002_18_20240530160715.png&type=f54_54&expire=24&refresh=true\n",
      "뉴스 썸네일: https://search.pstatic.net/common/?src=https%3A%2F%2Fmimgnews.pstatic.net%2Fimage%2Fupload%2Foffice_logo%2F5002%2F2024%2F05%2F30%2Flogo_5002_18_20240530160715.png&type=f54_54&expire=24&refresh=true\n",
      "뉴스 회사: 뉴스핌\n",
      "뉴스 설명:  장환수 스포츠전문기자= 이정후(샌프란시스코)가 시즌 처음으로 휴식을 취했다. 배지환(피츠버그)은 사흘 연속 출전하지 못했다. 샌프란시스코 밥 멜빈 감독은 3일(한국시간) 휴스턴 원정 3연전 마지막 경기에서 중견수 이정후 대신 빅리그 3년차 루이스 마토스를 선발 라인업에 올렸다. 이정후는...\n",
      "뉴스 시간 : 8시간 전\n",
      "\n",
      "뉴스 제목 :  '도쿄 시리즈' 8타수 무안타 스즈키, 최근 4G 11타점 '원맨쇼'…MLB 타점...\n",
      "뉴스 링크 :  https://isplus.com/article/view/isp202504030039\n",
      "뉴스 로고: data:image/gif;base64,R0lGODlhAQABAIAAAAAAAP///yH5BAEAAAAALAAAAAABAAEAAAIBRAA7\n",
      "뉴스 썸네일: data:image/gif;base64,R0lGODlhAQABAIAAAAAAAP///yH5BAEAAAAALAAAAAABAAEAAAIBRAA7\n",
      "뉴스 회사: 일간스포츠\n",
      "뉴스 설명:  특히 11타점을 기록해 애런 저지(뉴욕 양키스) 에우제니오 수아레스(애리조나 다이아몬드백스) 카일 터커(컵스)와 함께 메이저리그(MLB) 타점 공동 선두로 올라섰다. 스즈키는 올해 첫 5경기 타율이 0.095(21타수 2안타)에 불과했다. 일본 도쿄에서 열린 LA 다저스와의 메이저리그(MLB) 공식 개막전 2연전에선...\n",
      "뉴스 시간 : 7시간 전\n",
      "\n",
      "뉴스 제목 :  ‘판타스틱 베이스볼: 일미프로’ 일본 사전 예약…日야구 게임 최초 N...\n",
      "뉴스 링크 :  https://www.sportsworldi.com/newsView/20250403515818\n",
      "뉴스 로고: data:image/gif;base64,R0lGODlhAQABAIAAAAAAAP///yH5BAEAAAAALAAAAAABAAEAAAIBRAA7\n",
      "뉴스 썸네일: data:image/gif;base64,R0lGODlhAQABAIAAAAAAAP///yH5BAEAAAAALAAAAAABAAEAAAIBRAA7\n",
      "뉴스 회사: 스포츠월드\n",
      "뉴스 설명:  ‘판타스틱 베이스볼: 일미프로’는 일본 시장 최초로 NPB(일반사단법인 일본야구기구)와 MLB(Major League Baseball), MLB Players, Inc.의 공식 라이선스를 모두 사용한 모바일 야구 게임이다. 선수들의 얼굴과 투구폼은 물론, 현지 경기장과 구단 로고까지 정교하게 구현한 사실적인 그래픽이 특징이다. 이용자는...\n",
      "뉴스 시간 : 36분 전\n",
      "\n",
      "뉴스 제목 :  '승률 0.833'인데 2위도 아니고 3위라니, MLB '지옥의 조' 탄생... 8전 전...\n",
      "뉴스 링크 :  https://www.starnewskorea.com/stview.php?no=2025040314244328201\n",
      "뉴스 로고: data:image/gif;base64,R0lGODlhAQABAIAAAAAAAP///yH5BAEAAAAALAAAAAABAAEAAAIBRAA7\n",
      "뉴스 썸네일: data:image/gif;base64,R0lGODlhAQABAIAAAAAAAP///yH5BAEAAAAALAAAAAABAAEAAAIBRAA7\n",
      "뉴스 회사: 스타뉴스\n",
      "뉴스 설명:  2025시즌 초반 메이저리그(MLB)에 '죽음의 조'가 생겼다. 십수년 만에 최고의 출발을 하고도 지구 2위도 아닌 3위일 정도다. LA 다저스는 3일(한국시간) 미국 캘리포니아주 로스앤젤레스의 다저 스타디움에서 열린 애틀랜타 브레이브스와 2025 메이저리그 정규시즌 홈경기에서 6-5로 승리했다. 이로써 지난달 18...\n",
      "뉴스 시간 : 45분 전\n",
      "\n",
      "뉴스 제목 :  MLB 애리조나, 마르테와 6년 1707억원에 연장 계약\n",
      "뉴스 링크 :  https://www.newsis.com/view/NISX20250403_0003125344\n",
      "뉴스 로고: data:image/gif;base64,R0lGODlhAQABAIAAAAAAAP///yH5BAEAAAAALAAAAAABAAEAAAIBRAA7\n",
      "뉴스 썸네일: data:image/gif;base64,R0lGODlhAQABAIAAAAAAAP///yH5BAEAAAAALAAAAAABAAEAAAIBRAA7\n",
      "뉴스 회사: 뉴시스\n",
      "뉴스 설명:  메이저리그(MLB) 애리조나 다이아몬드백스가 올스타 내야수 케텔 마르테와 초대형 연장 계약을 했다. MLB닷컴과 ESPN 등은 3일(한국 시간) 마르테와 애리조나가 6년, 총액 1억1650만 달러(약 1707억원) 규모의 계약에 합의했다고 보도했다. 2022년 5년 7600만 달러에 계약을 맺었던 애리조나와...\n",
      "뉴스 시간 : 1시간 전\n",
      "\n",
      "뉴스 제목 :  MLB 화제의 '어뢰 배트', 스위트 스폿 위치 변경으로 타격 최적화 시도\n",
      "뉴스 링크 :  http://www.maniareport.com/view.php?ud=2025040111202711476cf2d78c68_19\n",
      "뉴스 로고: data:image/gif;base64,R0lGODlhAQABAIAAAAAAAP///yH5BAEAAAAALAAAAAABAAEAAAIBRAA7\n",
      "뉴스 썸네일: data:image/gif;base64,R0lGODlhAQABAIAAAAAAAP///yH5BAEAAAAALAAAAAABAAEAAAIBRAA7\n",
      "뉴스 회사: 마니아타임즈\n",
      "뉴스 설명:  미국프로야구(MLB)에서 '어뢰'(torpedo)라고 불리는 새로운 형태의 배트가 주목받고 있다. 뉴욕 양키스가 3월 30일(한국시간) 밀워키 브루어스와의 홈... MLB 사무국은 이 새로운 배트가 '직경 2.61인치, 길이가 42인치를 넘을 수 없다'는 규칙 3.02를 준수한다며 공식 사용을 허가했다. 어뢰 배트를 고안한 에런...\n",
      "뉴스 시간 : 1일 전\n",
      "\n",
      "뉴스 제목 :  ‘역시 슈퍼스타’ 오타니, MLB 유니폼 판매 1위 등극\n",
      "뉴스 링크 :  https://news.kbs.co.kr/news/pc/view/view.do?ncd=8215688&ref=A\n",
      "뉴스 로고: data:image/gif;base64,R0lGODlhAQABAIAAAAAAAP///yH5BAEAAAAALAAAAAABAAEAAAIBRAA7\n",
      "뉴스 썸네일: data:image/gif;base64,R0lGODlhAQABAIAAAAAAAP///yH5BAEAAAAALAAAAAABAAEAAAIBRAA7\n",
      "뉴스 회사: KBS\n",
      "뉴스 설명:  미국프로야구 메이저리그(MLB)에서 활약 중인 일본인 스타 오타니 쇼헤이(로스앤젤레스 다저스)가 유니폼 판매 순위에서도 전체 1위에 올랐습니다. 메이저리그 사무국은 오늘(1일) 지난해 월드시리즈 이후 오타니의 이름과 등번호가 새겨진 유니폼이 가장 많이 팔렸다고 밝혔습니다. 구체적인 수치는...\n",
      "뉴스 시간 : 2일 전\n",
      "\n"
     ]
    },
    {
     "data": {
      "text/plain": [
       "' for box in boxs:\\n    print(box) '"
      ]
     },
     "execution_count": 100,
     "metadata": {},
     "output_type": "execute_result"
    }
   ],
   "source": [
    "from bs4 import BeautifulSoup\n",
    "soup = BeautifulSoup(page_sourse)\n",
    "news_list = soup.select(\".news_wrap\")\n",
    "news_content = soup.select(\".news_contents\")\n",
    "news_icon = soup.select(\".info_group\")\n",
    "#news_icon = news_infogroup in soup.select_one(\".info\")\n",
    "\n",
    "for idx ,news in enumerate(news_list , 1):\n",
    "    \"\"\" title = news.select_one(\".news_tit\") \"\"\"\n",
    "    news_title = news.select_one(\".news_tit\")\n",
    "    print('뉴스 제목 : ' , news_title.get_text())\n",
    "\n",
    "    news_script = news.select(\".api_txt_lines\")\n",
    "    print('뉴스 설명: ', news_script[0].get_text()) \n",
    "\n",
    "    news_date = news.select_one(\"span.info\")\n",
    "    print('뉴스 시간 :', news_date.get_text())\n",
    "    \n",
    "    news_href = news_title[\"href\"]   # [ ] <-- 그냥 가져옴 궁금하면 class 적으셈\n",
    "    print('뉴스 링크 : ' ,news_href)\n",
    "    \n",
    "    # news_info = news.select_one(\".info press\")\n",
    "    # print(news_info.get_text())\n",
    "    news_logo = news.select_one(\".thumb_box img\")\n",
    "    print('뉴스 로고:', news_logo[\"src\"])\n",
    "\n",
    "    news_thumb = news.select_one(\".thumb\")\n",
    "    print('뉴스 썸네일:', news_thumb[\"src\"])\n",
    "\n",
    "    news_compony = news.select_one(\".press\")\n",
    "    print('뉴스 회사:', news_compony.get_text())\n",
    "\n",
    "    news_date = news.select_one(\"span.info\")\n",
    "    print('뉴스 시간 :', news_date.get_text())\n",
    "    \n",
    "    print(\"\")\n",
    "\n",
    "\n",
    "\n",
    "\n",
    "\n",
    "\n",
    "\n",
    "#\n",
    "    \n",
    "\n",
    "     \n",
    "\n",
    "    \n",
    "#print(news)\n",
    "\"\"\" for box in boxs:\n",
    "    print(box) \"\"\"\n",
    "# bx"
   ]
  },
  {
   "cell_type": "code",
   "execution_count": null,
   "metadata": {},
   "outputs": [],
   "source": []
  },
  {
   "cell_type": "code",
   "execution_count": null,
   "metadata": {},
   "outputs": [],
   "source": []
  },
  {
   "cell_type": "code",
   "execution_count": 101,
   "metadata": {},
   "outputs": [
    {
     "name": "stdout",
     "output_type": "stream",
     "text": [
      "https://search.naver.com/search.naver?ssc=tab.news.all&amp;where=news&amp;sm=tab_jum&amp;query=MLB\n",
      "\n"
     ]
    },
    {
     "name": "stderr",
     "output_type": "stream",
     "text": [
      "/var/folders/mx/_mbrx3ld26zbl0ybmcmjn76w0000gn/T/ipykernel_65285/1776407365.py:3: MarkupResemblesLocatorWarning: The input passed in on this line looks more like a URL than HTML or XML.\n",
      "\n",
      "If you meant to use Beautiful Soup to parse the web page found at a certain URL, then something has gone wrong. You should use an Python package like 'requests' to fetch the content behind the URL. Once you have the content as a string, you can feed that string into Beautiful Soup.\n",
      "\n",
      "However, if you want to parse some data that happens to look like a URL, then nothing has gone wrong: you are using Beautiful Soup correctly, and this warning is spurious and can be filtered. To make this warning go away, run this code before calling the BeautifulSoup constructor:\n",
      "\n",
      "    from bs4 import MarkupResemblesLocatorWarning\n",
      "    import warnings\n",
      "\n",
      "    warnings.filterwarnings(\"ignore\", category=MarkupResemblesLocatorWarning)\n",
      "    \n",
      "  soup= BeautifulSoup(\"https://search.naver.com/search.naver?ssc=tab.news.all&where=news&sm=tab_jum&query=MLB\")\n"
     ]
    }
   ],
   "source": [
    "from bs4 import BeautifulSoup\n",
    "\n",
    "soup= BeautifulSoup(\"https://search.naver.com/search.naver?ssc=tab.news.all&where=news&sm=tab_jum&query=MLB\")\n",
    "print(soup.prettify())\n",
    "\n"
   ]
  }
 ],
 "metadata": {
  "kernelspec": {
   "display_name": "env",
   "language": "python",
   "name": "python3"
  },
  "language_info": {
   "codemirror_mode": {
    "name": "ipython",
    "version": 3
   },
   "file_extension": ".py",
   "mimetype": "text/x-python",
   "name": "python",
   "nbconvert_exporter": "python",
   "pygments_lexer": "ipython3",
   "version": "3.13.2"
  }
 },
 "nbformat": 4,
 "nbformat_minor": 2
}
